{
 "cells": [
  {
   "cell_type": "code",
   "execution_count": 2,
   "id": "specific-darwin",
   "metadata": {},
   "outputs": [],
   "source": [
    "import numpy as np\n",
    "import matplotlib.pyplot as plt\n",
    "from sklearn.model_selection import train_test_split\n",
    "from collections import Counter\n",
    "import seaborn as sns\n",
    "import phik\n",
    "import math\n",
    "import csv\n",
    "import pandas as pd\n",
    "import time\n",
    "import random\n",
    "import heapq\n",
    "from collections import Counter\n"
   ]
  },
  {
   "cell_type": "code",
   "execution_count": 3,
   "id": "ranking-beast",
   "metadata": {},
   "outputs": [],
   "source": [
    "df=pd.read_csv('cleaned_data.csv')"
   ]
  },
  {
   "cell_type": "code",
   "execution_count": 4,
   "id": "generic-credit",
   "metadata": {},
   "outputs": [],
   "source": [
    "# Function to preprocess the data\n",
    "def preprocess(train_data, test_data):\n",
    "    preprocessed_train_data = train_data\n",
    "    preprocessed_test_data = test_data\n",
    "    return preprocessed_train_data, preprocessed_test_data\n",
    "\n",
    "# Function to read data from a CSV file\n",
    "def read_csv(filename):\n",
    "    with open(filename, 'r') as file:\n",
    "        reader = csv.DictReader(file)\n",
    "        data = list(reader)\n",
    "    return data\n",
    "\n",
    "# Function to retrieve similar cases from the case base\n",
    "def retrieve_similar_cases(new_case, case_base):\n",
    "    similarity_scores = {}\n",
    "    for case in case_base:\n",
    "        similarity_score = compute_global_similarity(new_case, case)\n",
    "        similarity_scores[case['CaseId']] = similarity_score\n",
    "    # Sorting the similarity scores in descending order\n",
    "    similar_cases = sorted(similarity_scores.items(), key=lambda x: x[1], reverse=True)\n",
    "    return similar_cases\n",
    "\n",
    "# Function to compute the global similarity between a new case and a case in the case base\n",
    "def compute_global_similarity(new_case, case):\n",
    "    similarity_sum = 0\n",
    "    new_case_attributes = new_case\n",
    "    case_attributes = case\n",
    "    # Calculating Jaccard similarity for each attribute\n",
    "    for attribute, value_set in new_case_attributes.items():\n",
    "        if attribute in case_attributes:\n",
    "            case_value_set = case_attributes[attribute]\n",
    "            similarity_score = compute_jaccard_similarity(value_set, case_value_set)\n",
    "            similarity_sum += similarity_score\n",
    "    # Computing average similarity\n",
    "    average_similarity = similarity_sum / len(new_case_attributes)\n",
    "    return average_similarity\n",
    "\n",
    "# Function to compute Jaccard similarity between two sets\n",
    "def compute_jaccard_similarity(set_A, set_B):\n",
    "    intersection = len(set(set_A).intersection(set_B))\n",
    "    union = len(set(set_A).union(set_B))\n",
    "    similarity_score = intersection / union if union != 0 else 0\n",
    "    return similarity_score\n",
    "\n"
   ]
  },
  {
   "cell_type": "code",
   "execution_count": 25,
   "id": "digital-franchise",
   "metadata": {},
   "outputs": [],
   "source": [
    "def reuse(new_case, preprocessed_train_data):\n",
    "    top_similar_cases = {}\n",
    "    for given in new_case:\n",
    "        case_id = given['CaseId']\n",
    "        similar = retrieve_similar_cases(given, preprocessed_train_data)\n",
    "        \n",
    "        # Retrieve top 3 similar cases based on similarity scores\n",
    "        top_similar_cases[case_id] = sorted(similar, key=lambda x: x[1], reverse=True)[:10]\n",
    "        \n",
    "    top_obs = {}\n",
    "    for key, value in top_similar_cases.items():\n",
    "        top_ids = [x[0] for x in value]\n",
    "        ta = [preprocessed_train_data[id]['Growing_Stress'] for id in range(len(preprocessed_train_data)) if preprocessed_train_data[id]['CaseId'] in top_ids]\n",
    "        top_obs[key] = ta\n",
    "    \n",
    "    return top_obs\n",
    "\n"
   ]
  },
  {
   "cell_type": "code",
   "execution_count": 26,
   "id": "threatened-loading",
   "metadata": {},
   "outputs": [],
   "source": [
    "def revise(reuse_res):\n",
    "    a = {}\n",
    "    for key, value in reuse_res.items():\n",
    "        a[key]=Counter(value).most_common(1)[0][0]\n",
    "        \n",
    "    return list(a.values())"
   ]
  },
  {
   "cell_type": "code",
   "execution_count": 27,
   "id": "guided-wallpaper",
   "metadata": {},
   "outputs": [],
   "source": [
    "def accuracy_cal(predicted, actual):\n",
    "    pred = np.zeros(len(predicted))\n",
    "    for i in range(len(predicted)):\n",
    "        if predicted[i] == actual[i]:\n",
    "            pred[i] = 1\n",
    "        else:\n",
    "            pred[i] = 0\n",
    "    return np.mean(pred)"
   ]
  },
  {
   "cell_type": "code",
   "execution_count": null,
   "id": "animal-panic",
   "metadata": {},
   "outputs": [],
   "source": [
    "def retain (new_case, preprocessed_train_data):\n",
    "    wrong_predicted={}\n",
    "    for key, value in new_case.items():\n",
    "        if new_Acase[id]['Growing_Stress'] for id in range(len(new_case))= a.values():\n",
    "            preprocessed_train_data.append(new_case)\n",
    "        else:\n",
    "            wrong_predicted[id]= new_case\n",
    "\n",
    "    return preprocessed_train_data,  wrong_predicted"
   ]
  },
  {
   "cell_type": "code",
   "execution_count": 28,
   "id": "suspected-arrow",
   "metadata": {},
   "outputs": [],
   "source": [
    "def main(data, test_set):\n",
    "    train_data, test_data = train_test_split(data, test_size=test_set, random_state=45)\n",
    "    preprocessed_train_data, preprocessed_test_data = preprocess(train_data, test_data)\n",
    "    res = reuse(preprocessed_test_data, preprocessed_train_data )\n",
    "    w=revise(res)\n",
    "    \n",
    "    actual = [preprocessed_test_data[id]['Growing_Stress'] for id in range(len(preprocessed_test_data))]\n",
    "    accuracy=accuracy_cal(w, actual)\n",
    "    \n",
    "    return preprocessed_train_data, preprocessed_test_data, res,actual,w,accuracy\n",
    "    "
   ]
  },
  {
   "cell_type": "code",
   "execution_count": 41,
   "id": "reliable-belfast",
   "metadata": {},
   "outputs": [],
   "source": [
    "filename = 'clearn_data.csv'\n",
    "data = read_csv(filename)\n",
    "test_set= 0.2\n",
    "preprocessed_train_data, preprocessed_test_data, res, w, actual,accuracy  = main(data, test_set)\n"
   ]
  },
  {
   "cell_type": "code",
   "execution_count": 42,
   "id": "infrared-employment",
   "metadata": {},
   "outputs": [],
   "source": [
    "from sklearn.metrics import accuracy_score, precision_score, recall_score, f1_score\n"
   ]
  },
  {
   "cell_type": "code",
   "execution_count": 43,
   "id": "divine-dakota",
   "metadata": {},
   "outputs": [
    {
     "name": "stdout",
     "output_type": "stream",
     "text": [
      "Accuracy: 0.9818181818181818\n",
      "Precision: 0.9767331433998101\n",
      "Recall: 0.9866666666666667\n",
      "F1_score: 0.9813100842894954\n"
     ]
    }
   ],
   "source": [
    "accuracy = accuracy_score(actual, w)\n",
    "\n",
    "pred = precision_score(actual, w, average ='macro')\n",
    "recall = recall_score(actual,w, average='macro')\n",
    "f1= f1_score(actual,w, average='macro')\n",
    "\n",
    "print (\"Accuracy:\", accuracy)\n",
    "print(\"Precision:\", pred)\n",
    "print(\"Recall:\", recall)\n",
    "print(\"F1_score:\", f1)"
   ]
  },
  {
   "cell_type": "code",
   "execution_count": 46,
   "id": "geological-vinyl",
   "metadata": {},
   "outputs": [
    {
     "data": {
      "image/png": "[encoded data removed]",
      "text/plain": [
       "<Figure size 432x288 with 1 Axes>"
      ]
     },
     "metadata": {
      "needs_background": "light"
     },
     "output_type": "display_data"
    }
   ],
   "source": [
    "import numpy as np\n",
    "import matplotlib.pyplot as plt\n",
    "from sklearn.preprocessing import LabelEncoder, label_binarize\n",
    "from sklearn.metrics import roc_curve, auc\n",
    "\n",
    "# Convert string labels to numerical labels\n",
    "label_encoder = LabelEncoder()\n",
    "actual_encoded = label_encoder.fit_transform(actual)\n",
    "predicted_encoded = label_encoder.transform(w)\n",
    "\n",
    "# Get the list of unique classes\n",
    "class_names = label_encoder.classes_\n",
    "\n",
    "# Binarize the actual labels and predicted labels\n",
    "actual_binarized = label_binarize(actual_encoded, classes=np.arange(len(class_names)))\n",
    "predicted_binarized = label_binarize(predicted_encoded, classes=np.arange(len(class_names)))\n",
    "\n",
    "# Plot ROC curve for each class\n",
    "plt.figure()\n",
    "for i in range(len(class_names)):\n",
    "    fpr, tpr, _ = roc_curve(actual_binarized[:, i], predicted_binarized[:, i])\n",
    "    roc_auc = auc(fpr, tpr)\n",
    "    plt.plot(fpr, tpr, lw=2, label=f'ROC curve (class {class_names[i]}) (area = {roc_auc:0.2f})')\n",
    "\n",
    "plt.plot([0, 1], [0, 1], color='navy', lw=2, linestyle='--')\n",
    "plt.xlim([0.0, 1.0])\n",
    "plt.ylim([0.0, 1.05])\n",
    "plt.xlabel('False Positive Rate')\n",
    "plt.ylabel('True Positive Rate')\n",
    "plt.title('Receiver Operating Characteristic')\n",
    "plt.legend(loc=\"lower right\")\n",
    "plt.show()\n"
   ]
  },
  {
   "cell_type": "code",
   "execution_count": null,
   "id": "religious-spine",
   "metadata": {},
   "outputs": [],
   "source": []
  }
 ],
 "metadata": {
  "kernelspec": {
   "display_name": "Python 3",
   "language": "python",
   "name": "python3"
  },
  "language_info": {
   "codemirror_mode": {
    "name": "ipython",
    "version": 3
   },
   "file_extension": ".py",
   "mimetype": "text/x-python",
   "name": "python",
   "nbconvert_exporter": "python",
   "pygments_lexer": "ipython3",
   "version": "3.9.2"
  }
 },
 "nbformat": 4,
 "nbformat_minor": 5
}
